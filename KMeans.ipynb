{
 "cells": [
  {
   "cell_type": "code",
   "execution_count": 2,
   "id": "6aeed5c7",
   "metadata": {},
   "outputs": [],
   "source": [
    "import pandas as pd \n",
    "df=pd.read_csv(\"C:\\Files\\dungaree.csv\")"
   ]
  },
  {
   "cell_type": "code",
   "execution_count": 3,
   "id": "bc001154",
   "metadata": {},
   "outputs": [
    {
     "data": {
      "text/html": [
       "<div>\n",
       "<style scoped>\n",
       "    .dataframe tbody tr th:only-of-type {\n",
       "        vertical-align: middle;\n",
       "    }\n",
       "\n",
       "    .dataframe tbody tr th {\n",
       "        vertical-align: top;\n",
       "    }\n",
       "\n",
       "    .dataframe thead th {\n",
       "        text-align: right;\n",
       "    }\n",
       "</style>\n",
       "<table border=\"1\" class=\"dataframe\">\n",
       "  <thead>\n",
       "    <tr style=\"text-align: right;\">\n",
       "      <th></th>\n",
       "      <th>STOREID</th>\n",
       "      <th>FASHION</th>\n",
       "      <th>LEISURE</th>\n",
       "      <th>STRETCH</th>\n",
       "      <th>ORIGINAL</th>\n",
       "      <th>SALESTOT</th>\n",
       "    </tr>\n",
       "  </thead>\n",
       "  <tbody>\n",
       "    <tr>\n",
       "      <th>0</th>\n",
       "      <td>1</td>\n",
       "      <td>182</td>\n",
       "      <td>1528</td>\n",
       "      <td>496</td>\n",
       "      <td>2203</td>\n",
       "      <td>4409</td>\n",
       "    </tr>\n",
       "    <tr>\n",
       "      <th>1</th>\n",
       "      <td>2</td>\n",
       "      <td>129</td>\n",
       "      <td>2247</td>\n",
       "      <td>296</td>\n",
       "      <td>1890</td>\n",
       "      <td>4562</td>\n",
       "    </tr>\n",
       "    <tr>\n",
       "      <th>2</th>\n",
       "      <td>3</td>\n",
       "      <td>107</td>\n",
       "      <td>1652</td>\n",
       "      <td>267</td>\n",
       "      <td>2342</td>\n",
       "      <td>4368</td>\n",
       "    </tr>\n",
       "    <tr>\n",
       "      <th>3</th>\n",
       "      <td>4</td>\n",
       "      <td>117</td>\n",
       "      <td>1744</td>\n",
       "      <td>419</td>\n",
       "      <td>2119</td>\n",
       "      <td>4399</td>\n",
       "    </tr>\n",
       "    <tr>\n",
       "      <th>4</th>\n",
       "      <td>5</td>\n",
       "      <td>110</td>\n",
       "      <td>1736</td>\n",
       "      <td>755</td>\n",
       "      <td>1781</td>\n",
       "      <td>4382</td>\n",
       "    </tr>\n",
       "    <tr>\n",
       "      <th>...</th>\n",
       "      <td>...</td>\n",
       "      <td>...</td>\n",
       "      <td>...</td>\n",
       "      <td>...</td>\n",
       "      <td>...</td>\n",
       "      <td>...</td>\n",
       "    </tr>\n",
       "    <tr>\n",
       "      <th>684</th>\n",
       "      <td>685</td>\n",
       "      <td>62</td>\n",
       "      <td>1526</td>\n",
       "      <td>871</td>\n",
       "      <td>1956</td>\n",
       "      <td>4415</td>\n",
       "    </tr>\n",
       "    <tr>\n",
       "      <th>685</th>\n",
       "      <td>686</td>\n",
       "      <td>57</td>\n",
       "      <td>1564</td>\n",
       "      <td>8</td>\n",
       "      <td>1769</td>\n",
       "      <td>3398</td>\n",
       "    </tr>\n",
       "    <tr>\n",
       "      <th>686</th>\n",
       "      <td>687</td>\n",
       "      <td>104</td>\n",
       "      <td>1963</td>\n",
       "      <td>274</td>\n",
       "      <td>2053</td>\n",
       "      <td>4394</td>\n",
       "    </tr>\n",
       "    <tr>\n",
       "      <th>687</th>\n",
       "      <td>688</td>\n",
       "      <td>51</td>\n",
       "      <td>2057</td>\n",
       "      <td>393</td>\n",
       "      <td>1901</td>\n",
       "      <td>4402</td>\n",
       "    </tr>\n",
       "    <tr>\n",
       "      <th>688</th>\n",
       "      <td>689</td>\n",
       "      <td>97</td>\n",
       "      <td>2054</td>\n",
       "      <td>501</td>\n",
       "      <td>1826</td>\n",
       "      <td>4478</td>\n",
       "    </tr>\n",
       "  </tbody>\n",
       "</table>\n",
       "<p>689 rows × 6 columns</p>\n",
       "</div>"
      ],
      "text/plain": [
       "     STOREID  FASHION  LEISURE  STRETCH  ORIGINAL  SALESTOT\n",
       "0          1      182     1528      496      2203      4409\n",
       "1          2      129     2247      296      1890      4562\n",
       "2          3      107     1652      267      2342      4368\n",
       "3          4      117     1744      419      2119      4399\n",
       "4          5      110     1736      755      1781      4382\n",
       "..       ...      ...      ...      ...       ...       ...\n",
       "684      685       62     1526      871      1956      4415\n",
       "685      686       57     1564        8      1769      3398\n",
       "686      687      104     1963      274      2053      4394\n",
       "687      688       51     2057      393      1901      4402\n",
       "688      689       97     2054      501      1826      4478\n",
       "\n",
       "[689 rows x 6 columns]"
      ]
     },
     "execution_count": 3,
     "metadata": {},
     "output_type": "execute_result"
    }
   ],
   "source": [
    "df"
   ]
  },
  {
   "cell_type": "code",
   "execution_count": 6,
   "id": "18f876c9",
   "metadata": {},
   "outputs": [],
   "source": [
    "df.drop([\"STOREID\",\"SALESTOT\"],axis=1,inplace=True)"
   ]
  },
  {
   "cell_type": "code",
   "execution_count": 7,
   "id": "712a0a3c",
   "metadata": {},
   "outputs": [
    {
     "data": {
      "text/html": [
       "<div>\n",
       "<style scoped>\n",
       "    .dataframe tbody tr th:only-of-type {\n",
       "        vertical-align: middle;\n",
       "    }\n",
       "\n",
       "    .dataframe tbody tr th {\n",
       "        vertical-align: top;\n",
       "    }\n",
       "\n",
       "    .dataframe thead th {\n",
       "        text-align: right;\n",
       "    }\n",
       "</style>\n",
       "<table border=\"1\" class=\"dataframe\">\n",
       "  <thead>\n",
       "    <tr style=\"text-align: right;\">\n",
       "      <th></th>\n",
       "      <th>FASHION</th>\n",
       "      <th>LEISURE</th>\n",
       "      <th>STRETCH</th>\n",
       "      <th>ORIGINAL</th>\n",
       "    </tr>\n",
       "  </thead>\n",
       "  <tbody>\n",
       "    <tr>\n",
       "      <th>0</th>\n",
       "      <td>182</td>\n",
       "      <td>1528</td>\n",
       "      <td>496</td>\n",
       "      <td>2203</td>\n",
       "    </tr>\n",
       "    <tr>\n",
       "      <th>1</th>\n",
       "      <td>129</td>\n",
       "      <td>2247</td>\n",
       "      <td>296</td>\n",
       "      <td>1890</td>\n",
       "    </tr>\n",
       "    <tr>\n",
       "      <th>2</th>\n",
       "      <td>107</td>\n",
       "      <td>1652</td>\n",
       "      <td>267</td>\n",
       "      <td>2342</td>\n",
       "    </tr>\n",
       "    <tr>\n",
       "      <th>3</th>\n",
       "      <td>117</td>\n",
       "      <td>1744</td>\n",
       "      <td>419</td>\n",
       "      <td>2119</td>\n",
       "    </tr>\n",
       "    <tr>\n",
       "      <th>4</th>\n",
       "      <td>110</td>\n",
       "      <td>1736</td>\n",
       "      <td>755</td>\n",
       "      <td>1781</td>\n",
       "    </tr>\n",
       "    <tr>\n",
       "      <th>...</th>\n",
       "      <td>...</td>\n",
       "      <td>...</td>\n",
       "      <td>...</td>\n",
       "      <td>...</td>\n",
       "    </tr>\n",
       "    <tr>\n",
       "      <th>684</th>\n",
       "      <td>62</td>\n",
       "      <td>1526</td>\n",
       "      <td>871</td>\n",
       "      <td>1956</td>\n",
       "    </tr>\n",
       "    <tr>\n",
       "      <th>685</th>\n",
       "      <td>57</td>\n",
       "      <td>1564</td>\n",
       "      <td>8</td>\n",
       "      <td>1769</td>\n",
       "    </tr>\n",
       "    <tr>\n",
       "      <th>686</th>\n",
       "      <td>104</td>\n",
       "      <td>1963</td>\n",
       "      <td>274</td>\n",
       "      <td>2053</td>\n",
       "    </tr>\n",
       "    <tr>\n",
       "      <th>687</th>\n",
       "      <td>51</td>\n",
       "      <td>2057</td>\n",
       "      <td>393</td>\n",
       "      <td>1901</td>\n",
       "    </tr>\n",
       "    <tr>\n",
       "      <th>688</th>\n",
       "      <td>97</td>\n",
       "      <td>2054</td>\n",
       "      <td>501</td>\n",
       "      <td>1826</td>\n",
       "    </tr>\n",
       "  </tbody>\n",
       "</table>\n",
       "<p>689 rows × 4 columns</p>\n",
       "</div>"
      ],
      "text/plain": [
       "     FASHION  LEISURE  STRETCH  ORIGINAL\n",
       "0        182     1528      496      2203\n",
       "1        129     2247      296      1890\n",
       "2        107     1652      267      2342\n",
       "3        117     1744      419      2119\n",
       "4        110     1736      755      1781\n",
       "..       ...      ...      ...       ...\n",
       "684       62     1526      871      1956\n",
       "685       57     1564        8      1769\n",
       "686      104     1963      274      2053\n",
       "687       51     2057      393      1901\n",
       "688       97     2054      501      1826\n",
       "\n",
       "[689 rows x 4 columns]"
      ]
     },
     "execution_count": 7,
     "metadata": {},
     "output_type": "execute_result"
    }
   ],
   "source": [
    "df"
   ]
  },
  {
   "cell_type": "code",
   "execution_count": 9,
   "id": "9195b135",
   "metadata": {},
   "outputs": [
    {
     "name": "stderr",
     "output_type": "stream",
     "text": [
      "C:\\ProgramData\\Anaconda3\\lib\\site-packages\\scipy\\__init__.py:138: UserWarning: A NumPy version >=1.16.5 and <1.23.0 is required for this version of SciPy (detected version 1.23.0)\n",
      "  warnings.warn(f\"A NumPy version >={np_minversion} and <{np_maxversion} is required for this version of \"\n"
     ]
    }
   ],
   "source": [
    "# RANGE \n",
    "# sTAT Std\n",
    "\n",
    "# Xstd= (X-Xmin) / (Xmax-Xmin)\n",
    "# Xstd=  (X-Xmean) / Xstd# Z-Score using pandas\n",
    "# df['col1'] = (df['col1'] - df['col1'].mean()) / df['col1'].std()\n",
    "\n",
    "from sklearn import preprocessing\n",
    "\n",
    "stddf=preprocessing.scale(df)\n",
    "\n",
    "\n"
   ]
  },
  {
   "cell_type": "code",
   "execution_count": 10,
   "id": "5345739c",
   "metadata": {},
   "outputs": [
    {
     "data": {
      "text/plain": [
       "array([[ 2.75330253, -1.10791719,  0.24562839,  1.21352058],\n",
       "       [ 1.12716676,  0.94293908, -0.69983508,  0.13938196],\n",
       "       [ 0.45216701, -0.75422293, -0.83692728,  1.69053422],\n",
       "       ...,\n",
       "       [ 0.36012159,  0.13286511, -0.80383606,  0.69875766],\n",
       "       [-1.26601418,  0.40098819, -0.2412853 ,  0.17713124],\n",
       "       [ 0.14534894,  0.39243107,  0.26926498, -0.08025022]])"
      ]
     },
     "execution_count": 10,
     "metadata": {},
     "output_type": "execute_result"
    }
   ],
   "source": [
    "stddf"
   ]
  },
  {
   "cell_type": "code",
   "execution_count": 11,
   "id": "9c169a08",
   "metadata": {},
   "outputs": [
    {
     "data": {
      "text/plain": [
       "numpy.ndarray"
      ]
     },
     "execution_count": 11,
     "metadata": {},
     "output_type": "execute_result"
    }
   ],
   "source": [
    "type(stddf)"
   ]
  },
  {
   "cell_type": "code",
   "execution_count": 14,
   "id": "c6550204",
   "metadata": {},
   "outputs": [],
   "source": [
    "df2=pd.DataFrame(stddf, columns=['FASHION','LEISURE','STRETCH','ORIGINAL'])"
   ]
  },
  {
   "cell_type": "code",
   "execution_count": 20,
   "id": "49ed8fba",
   "metadata": {},
   "outputs": [
    {
     "data": {
      "text/plain": [
       "KMeans(n_clusters=6)"
      ]
     },
     "execution_count": 20,
     "metadata": {},
     "output_type": "execute_result"
    }
   ],
   "source": [
    "from sklearn.cluster import KMeans\n",
    "engine=KMeans(n_clusters=6)\n",
    "Cluster_Labels=engine.fit(df2)"
   ]
  },
  {
   "cell_type": "code",
   "execution_count": 21,
   "id": "00f41609",
   "metadata": {},
   "outputs": [
    {
     "data": {
      "text/plain": [
       "array([4, 4, 0, 0, 3, 3, 1, 1, 0, 0, 2, 0, 4, 5, 1, 2, 4, 0, 3, 4, 1, 1,\n",
       "       1, 4, 3, 3, 1, 3, 0, 0, 1, 0, 0, 0, 1, 1, 3, 2, 0, 4, 3, 3, 4, 3,\n",
       "       1, 3, 2, 4, 0, 1, 1, 3, 0, 4, 4, 4, 0, 4, 3, 3, 1, 5, 3, 1, 0, 4,\n",
       "       3, 3, 0, 5, 3, 1, 1, 1, 2, 1, 4, 3, 3, 1, 3, 1, 4, 0, 1, 0, 1, 1,\n",
       "       2, 1, 3, 1, 5, 1, 2, 1, 4, 3, 0, 4, 4, 2, 3, 0, 3, 1, 4, 2, 3, 0,\n",
       "       1, 0, 3, 0, 2, 1, 1, 1, 2, 4, 2, 2, 3, 4, 3, 2, 0, 1, 1, 1, 1, 4,\n",
       "       0, 0, 0, 0, 3, 3, 0, 1, 1, 0, 4, 0, 3, 3, 0, 0, 0, 4, 1, 2, 0, 1,\n",
       "       4, 3, 0, 0, 4, 2, 1, 0, 1, 1, 4, 1, 1, 4, 0, 0, 1, 3, 3, 1, 0, 5,\n",
       "       0, 0, 0, 4, 0, 0, 1, 1, 3, 3, 4, 2, 1, 0, 4, 4, 0, 3, 0, 0, 3, 2,\n",
       "       0, 4, 1, 3, 4, 4, 1, 3, 1, 4, 0, 1, 1, 1, 4, 1, 3, 2, 0, 1, 0, 3,\n",
       "       0, 4, 1, 0, 1, 2, 4, 3, 3, 1, 1, 4, 1, 4, 0, 3, 4, 0, 3, 4, 1, 1,\n",
       "       2, 1, 3, 0, 3, 0, 1, 4, 3, 2, 0, 1, 1, 2, 4, 0, 0, 1, 1, 1, 3, 0,\n",
       "       1, 0, 2, 0, 1, 1, 4, 3, 4, 0, 2, 3, 0, 3, 2, 4, 1, 1, 1, 1, 0, 4,\n",
       "       4, 2, 4, 5, 0, 1, 0, 0, 4, 0, 0, 2, 0, 2, 3, 0, 1, 1, 1, 3, 0, 4,\n",
       "       1, 0, 4, 1, 1, 1, 1, 4, 3, 1, 0, 1, 0, 5, 1, 0, 0, 4, 1, 3, 0, 3,\n",
       "       4, 4, 0, 1, 0, 0, 0, 0, 0, 1, 0, 0, 1, 3, 0, 1, 0, 3, 1, 1, 0, 0,\n",
       "       4, 1, 1, 3, 3, 2, 0, 1, 4, 0, 1, 1, 4, 3, 0, 4, 0, 1, 0, 4, 1, 4,\n",
       "       2, 1, 0, 3, 3, 0, 4, 1, 4, 1, 4, 0, 2, 0, 1, 3, 3, 3, 0, 5, 1, 0,\n",
       "       1, 4, 3, 0, 3, 3, 0, 4, 3, 1, 1, 0, 1, 0, 0, 1, 1, 0, 1, 1, 1, 0,\n",
       "       1, 5, 4, 0, 3, 1, 3, 0, 4, 3, 1, 0, 4, 0, 1, 4, 1, 3, 1, 1, 2, 3,\n",
       "       0, 2, 1, 0, 2, 1, 4, 0, 1, 5, 1, 0, 0, 1, 3, 1, 1, 1, 1, 0, 3, 1,\n",
       "       1, 1, 4, 4, 0, 2, 1, 3, 4, 3, 1, 4, 1, 4, 4, 0, 3, 4, 1, 1, 0, 0,\n",
       "       3, 2, 4, 4, 0, 3, 4, 3, 4, 1, 4, 4, 3, 0, 1, 4, 3, 0, 1, 4, 0, 4,\n",
       "       3, 3, 3, 1, 1, 1, 4, 4, 2, 1, 3, 2, 1, 3, 1, 0, 1, 0, 2, 3, 4, 0,\n",
       "       0, 0, 0, 3, 1, 3, 3, 4, 1, 3, 0, 3, 4, 1, 0, 3, 4, 0, 3, 0, 1, 1,\n",
       "       0, 4, 1, 1, 1, 4, 3, 1, 1, 4, 0, 0, 4, 3, 1, 4, 4, 0, 1, 4, 0, 0,\n",
       "       1, 3, 1, 1, 2, 0, 0, 1, 0, 1, 4, 0, 3, 4, 3, 1, 0, 1, 1, 0, 1, 1,\n",
       "       1, 1, 1, 0, 0, 4, 0, 1, 3, 4, 4, 4, 4, 4, 4, 4, 2, 3, 0, 1, 3, 0,\n",
       "       2, 1, 1, 1, 0, 3, 1, 0, 0, 4, 0, 0, 0, 1, 1, 4, 3, 2, 3, 1, 1, 0,\n",
       "       4, 4, 0, 1, 1, 1, 0, 0, 2, 3, 4, 4, 1, 1, 4, 4, 3, 1, 3, 1, 0, 0,\n",
       "       0, 4, 1, 4, 4, 1, 3, 0, 3, 3, 0, 4, 4, 0, 0, 3, 1, 0, 4, 4, 3, 4,\n",
       "       1, 4, 3, 2, 0, 0, 1])"
      ]
     },
     "execution_count": 21,
     "metadata": {},
     "output_type": "execute_result"
    }
   ],
   "source": [
    "engine.predict(df2)"
   ]
  },
  {
   "cell_type": "code",
   "execution_count": null,
   "id": "91eb153c",
   "metadata": {},
   "outputs": [],
   "source": []
  }
 ],
 "metadata": {
  "kernelspec": {
   "display_name": "Python 3",
   "language": "python",
   "name": "python3"
  },
  "language_info": {
   "codemirror_mode": {
    "name": "ipython",
    "version": 3
   },
   "file_extension": ".py",
   "mimetype": "text/x-python",
   "name": "python",
   "nbconvert_exporter": "python",
   "pygments_lexer": "ipython3",
   "version": "3.8.8"
  }
 },
 "nbformat": 4,
 "nbformat_minor": 5
}
