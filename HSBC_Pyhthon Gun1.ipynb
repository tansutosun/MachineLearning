{
 "cells": [
  {
   "cell_type": "raw",
   "id": "34e36d2e",
   "metadata": {},
   "source": [
    "Numeric (Integer, Float) String"
   ]
  },
  {
   "cell_type": "code",
   "execution_count": 1,
   "id": "d4d6ce13",
   "metadata": {},
   "outputs": [
    {
     "data": {
      "text/plain": [
       "10"
      ]
     },
     "execution_count": 1,
     "metadata": {},
     "output_type": "execute_result"
    }
   ],
   "source": [
    "4+6"
   ]
  },
  {
   "cell_type": "code",
   "execution_count": 4,
   "id": "36772d70",
   "metadata": {},
   "outputs": [
    {
     "data": {
      "text/plain": [
       "6"
      ]
     },
     "execution_count": 4,
     "metadata": {},
     "output_type": "execute_result"
    }
   ],
   "source": [
    "3.2+9.5\n",
    "5+1"
   ]
  },
  {
   "cell_type": "code",
   "execution_count": 8,
   "id": "9026bf00",
   "metadata": {},
   "outputs": [
    {
     "data": {
      "text/plain": [
       "2"
      ]
     },
     "execution_count": 8,
     "metadata": {},
     "output_type": "execute_result"
    }
   ],
   "source": [
    "54.25/7.1\n",
    "# Çift Bölme \n",
    "54.25//7.1\n",
    "12.5//3\n",
    "# tamsayı Bölmesi\n",
    "5%3"
   ]
  },
  {
   "cell_type": "code",
   "execution_count": null,
   "id": "c93432ad",
   "metadata": {},
   "outputs": [],
   "source": [
    "'Ali'"
   ]
  },
  {
   "cell_type": "code",
   "execution_count": null,
   "id": "d51f32f3",
   "metadata": {},
   "outputs": [],
   "source": [
    "i=10"
   ]
  },
  {
   "cell_type": "markdown",
   "id": "bbe35f30",
   "metadata": {},
   "source": [
    "isim"
   ]
  },
  {
   "cell_type": "code",
   "execution_count": 9,
   "id": "819f28cc",
   "metadata": {},
   "outputs": [
    {
     "ename": "NameError",
     "evalue": "name 'isim' is not defined",
     "output_type": "error",
     "traceback": [
      "\u001b[1;31m---------------------------------------------------------------------------\u001b[0m",
      "\u001b[1;31mNameError\u001b[0m                                 Traceback (most recent call last)",
      "\u001b[1;32m<ipython-input-9-678e2a6617a8>\u001b[0m in \u001b[0;36m<module>\u001b[1;34m\u001b[0m\n\u001b[1;32m----> 1\u001b[1;33m \u001b[0misim\u001b[0m\u001b[1;33m*\u001b[0m\u001b[1;36m2\u001b[0m\u001b[1;33m\u001b[0m\u001b[1;33m\u001b[0m\u001b[0m\n\u001b[0m",
      "\u001b[1;31mNameError\u001b[0m: name 'isim' is not defined"
     ]
    }
   ],
   "source": [
    "isim*2"
   ]
  },
  {
   "cell_type": "code",
   "execution_count": 15,
   "id": "feba038e",
   "metadata": {},
   "outputs": [],
   "source": [
    "#Değişken tanımlama \n",
    "isim=4\n",
    "isim=3\n",
    "isim='Tansu'\n"
   ]
  },
  {
   "cell_type": "code",
   "execution_count": 16,
   "id": "ce580b5b",
   "metadata": {},
   "outputs": [
    {
     "data": {
      "text/plain": [
       "'TansuTansu'"
      ]
     },
     "execution_count": 16,
     "metadata": {},
     "output_type": "execute_result"
    }
   ],
   "source": [
    "isim*2"
   ]
  },
  {
   "cell_type": "code",
   "execution_count": 17,
   "id": "7661ab02",
   "metadata": {},
   "outputs": [
    {
     "data": {
      "text/plain": [
       "12.166999999999996"
      ]
     },
     "execution_count": 17,
     "metadata": {},
     "output_type": "execute_result"
    }
   ],
   "source": [
    "i=2.3\n",
    "i*i*i"
   ]
  },
  {
   "cell_type": "code",
   "execution_count": 20,
   "id": "993e6f96",
   "metadata": {},
   "outputs": [
    {
     "ename": "SyntaxError",
     "evalue": "invalid syntax (<ipython-input-20-724621369144>, line 5)",
     "output_type": "error",
     "traceback": [
      "\u001b[1;36m  File \u001b[1;32m\"<ipython-input-20-724621369144>\"\u001b[1;36m, line \u001b[1;32m5\u001b[0m\n\u001b[1;33m    xy?=5\u001b[0m\n\u001b[1;37m      ^\u001b[0m\n\u001b[1;31mSyntaxError\u001b[0m\u001b[1;31m:\u001b[0m invalid syntax\n"
     ]
    }
   ],
   "source": [
    "# Değişken ismi verilirken dikka edilmesi gereeken hususlar \n",
    "#1 Degisken isimleri sayi ile başlayamaz\n",
    "#2 Bosluk karaketeri olamaz\n",
    "#3 _ haricinde özel karakter olmaz\n",
    "#4 while, not, for gibi komut kelimeleri kullanılmaz\n",
    "xy?=5"
   ]
  },
  {
   "cell_type": "code",
   "execution_count": 21,
   "id": "bdea4fbb",
   "metadata": {},
   "outputs": [],
   "source": [
    "pi=3.14 \n",
    "cap=4\n",
    "çevre=cap*pi*a"
   ]
  },
  {
   "cell_type": "code",
   "execution_count": 25,
   "id": "a4dead3f",
   "metadata": {},
   "outputs": [],
   "source": [
    "a,l,i=4,7,9"
   ]
  },
  {
   "cell_type": "code",
   "execution_count": 26,
   "id": "ecc39017",
   "metadata": {},
   "outputs": [
    {
     "data": {
      "text/plain": [
       "5"
      ]
     },
     "execution_count": 26,
     "metadata": {},
     "output_type": "execute_result"
    }
   ],
   "source": [
    "a+1"
   ]
  },
  {
   "cell_type": "code",
   "execution_count": 29,
   "id": "89d238e8",
   "metadata": {},
   "outputs": [
    {
     "data": {
      "text/plain": [
       "7"
      ]
     },
     "execution_count": 29,
     "metadata": {},
     "output_type": "execute_result"
    }
   ],
   "source": [
    "a=a+1\n",
    "a+=1"
   ]
  },
  {
   "cell_type": "code",
   "execution_count": null,
   "id": "b97986e5",
   "metadata": {},
   "outputs": [],
   "source": [
    "# Yorum eğer tek satır ise hash işareti \n",
    "\"\"\"  \n",
    "Mein1\n",
    "Metin2\n",
    "metin 3\n",
    "\"\"\"\n",
    "\n",
    "\n",
    "\n"
   ]
  },
  {
   "cell_type": "code",
   "execution_count": 30,
   "id": "113b80b2",
   "metadata": {},
   "outputs": [
    {
     "data": {
      "text/plain": [
       "25"
      ]
     },
     "execution_count": 30,
     "metadata": {},
     "output_type": "execute_result"
    }
   ],
   "source": [
    "5**2"
   ]
  },
  {
   "cell_type": "code",
   "execution_count": 31,
   "id": "f7b2c83e",
   "metadata": {},
   "outputs": [
    {
     "data": {
      "text/plain": [
       "5.0"
      ]
     },
     "execution_count": 31,
     "metadata": {},
     "output_type": "execute_result"
    }
   ],
   "source": [
    "a=5**2\n",
    "a**(1/2)"
   ]
  },
  {
   "cell_type": "code",
   "execution_count": null,
   "id": "0116aef6",
   "metadata": {},
   "outputs": [],
   "source": [
    "\"Ali'nin Bilgisayarı\""
   ]
  },
  {
   "cell_type": "code",
   "execution_count": 32,
   "id": "3300046f",
   "metadata": {},
   "outputs": [
    {
     "data": {
      "text/plain": [
       "'l'"
      ]
     },
     "execution_count": 32,
     "metadata": {},
     "output_type": "execute_result"
    }
   ],
   "source": [
    "# String ifadelerde indeksleme  \n",
    "a=\"Alipaşa\"\n",
    "a[1]\n"
   ]
  },
  {
   "cell_type": "code",
   "execution_count": 33,
   "id": "013a4137",
   "metadata": {},
   "outputs": [
    {
     "data": {
      "text/plain": [
       "'A'"
      ]
     },
     "execution_count": 33,
     "metadata": {},
     "output_type": "execute_result"
    }
   ],
   "source": [
    "a[0]"
   ]
  },
  {
   "cell_type": "code",
   "execution_count": 39,
   "id": "c34055fa",
   "metadata": {},
   "outputs": [
    {
     "data": {
      "text/plain": [
       "'ipaşa'"
      ]
     },
     "execution_count": 39,
     "metadata": {},
     "output_type": "execute_result"
    }
   ],
   "source": [
    "a[-1]\n",
    "a[-2]\n",
    "a[-3]\n",
    "a[0:2]\n",
    "a[:2]\n",
    "a[2:]"
   ]
  },
  {
   "cell_type": "code",
   "execution_count": 42,
   "id": "ab5517b4",
   "metadata": {},
   "outputs": [
    {
     "data": {
      "text/plain": [
       "'Python Programlama Dili'"
      ]
     },
     "execution_count": 42,
     "metadata": {},
     "output_type": "execute_result"
    }
   ],
   "source": [
    "# len()\n",
    "a=\"Python Programlama Dili\"\n",
    "len(a)\n",
    "x=\"Python\"\n",
    "y=\" Programlama\"\n",
    "z=\" Dili\"\n",
    "x+y+z"
   ]
  },
  {
   "cell_type": "raw",
   "id": "0dead5eb",
   "metadata": {},
   "source": [
    "# Veri Tipi Dönüşümleri "
   ]
  },
  {
   "cell_type": "code",
   "execution_count": 48,
   "id": "059c1934",
   "metadata": {},
   "outputs": [
    {
     "name": "stdout",
     "output_type": "stream",
     "text": [
      "<class 'int'>\n",
      "<class 'float'>\n"
     ]
    },
    {
     "data": {
      "text/plain": [
       "1"
      ]
     },
     "execution_count": 48,
     "metadata": {},
     "output_type": "execute_result"
    }
   ],
   "source": [
    "a=35\n",
    "print(type(a))\n",
    "a=float(a)\n",
    "print(type(a))\n",
    "\n",
    "a=6\n",
    "b=4\n",
    "int(a/b)"
   ]
  },
  {
   "cell_type": "code",
   "execution_count": 51,
   "id": "228a86ef",
   "metadata": {},
   "outputs": [
    {
     "name": "stdout",
     "output_type": "stream",
     "text": [
      "Dairenin Çevresi 12.56 bulunmuştur\n"
     ]
    }
   ],
   "source": [
    "pi=3.14 \n",
    "cap=4\n",
    "çevre=cap*pi\n",
    "print(\"Dairenin Çevresi\", çevre, \"bulunmuştur\")"
   ]
  },
  {
   "cell_type": "code",
   "execution_count": 54,
   "id": "7c4a5444",
   "metadata": {},
   "outputs": [],
   "source": [
    "# Listeler \n",
    "# Listeler köşeli parantez ile gösterilir \n",
    "liste1=[3,4,5,6]\n",
    "liste2=[3,4,5,6,\"Elma\",3.14,5.234]"
   ]
  },
  {
   "cell_type": "code",
   "execution_count": 55,
   "id": "fd407379",
   "metadata": {},
   "outputs": [
    {
     "data": {
      "text/plain": [
       "[3, 4, 5, 6, 'Elma', 3.14, 5.234]"
      ]
     },
     "execution_count": 55,
     "metadata": {},
     "output_type": "execute_result"
    }
   ],
   "source": [
    "liste2"
   ]
  },
  {
   "cell_type": "code",
   "execution_count": 56,
   "id": "dfe72373",
   "metadata": {},
   "outputs": [
    {
     "data": {
      "text/plain": [
       "6"
      ]
     },
     "execution_count": 56,
     "metadata": {},
     "output_type": "execute_result"
    }
   ],
   "source": [
    "a"
   ]
  },
  {
   "cell_type": "code",
   "execution_count": 57,
   "id": "eacc317c",
   "metadata": {},
   "outputs": [
    {
     "ename": "TypeError",
     "evalue": "'int' object is not iterable",
     "output_type": "error",
     "traceback": [
      "\u001b[1;31m---------------------------------------------------------------------------\u001b[0m",
      "\u001b[1;31mTypeError\u001b[0m                                 Traceback (most recent call last)",
      "\u001b[1;32m<ipython-input-57-e8d606e78fd4>\u001b[0m in \u001b[0;36m<module>\u001b[1;34m\u001b[0m\n\u001b[1;32m----> 1\u001b[1;33m \u001b[0mlist\u001b[0m\u001b[1;33m(\u001b[0m\u001b[0ma\u001b[0m\u001b[1;33m)\u001b[0m\u001b[1;33m\u001b[0m\u001b[1;33m\u001b[0m\u001b[0m\n\u001b[0m",
      "\u001b[1;31mTypeError\u001b[0m: 'int' object is not iterable"
     ]
    }
   ],
   "source": [
    "list(a)"
   ]
  },
  {
   "cell_type": "code",
   "execution_count": 62,
   "id": "339e48c4",
   "metadata": {},
   "outputs": [],
   "source": []
  },
  {
   "cell_type": "code",
   "execution_count": 59,
   "id": "eb319e14",
   "metadata": {},
   "outputs": [],
   "source": [
    "cümle=\"Her yere su kaydırakları, trambolinler, futbol sahaları ve koşacakları sonsuz kırlar koyarlardı.\""
   ]
  },
  {
   "cell_type": "code",
   "execution_count": 60,
   "id": "b3093c67",
   "metadata": {},
   "outputs": [
    {
     "data": {
      "text/plain": [
       "'Her yere su kaydırakları, trambolinler, futbol sahaları ve koşacakları sonsuz kırlar koyarlardı.'"
      ]
     },
     "execution_count": 60,
     "metadata": {},
     "output_type": "execute_result"
    }
   ],
   "source": [
    "cümle"
   ]
  },
  {
   "cell_type": "code",
   "execution_count": 61,
   "id": "5561230a",
   "metadata": {},
   "outputs": [
    {
     "data": {
      "text/plain": [
       "96"
      ]
     },
     "execution_count": 61,
     "metadata": {},
     "output_type": "execute_result"
    }
   ],
   "source": [
    "len(cümle)"
   ]
  },
  {
   "cell_type": "code",
   "execution_count": 64,
   "id": "2282a4f9",
   "metadata": {},
   "outputs": [
    {
     "data": {
      "text/plain": [
       "'h'"
      ]
     },
     "execution_count": 64,
     "metadata": {},
     "output_type": "execute_result"
    }
   ],
   "source": [
    "s=\"Merhaba\"\n",
    "listem=list(s)\n",
    "listem[3]"
   ]
  },
  {
   "cell_type": "code",
   "execution_count": 65,
   "id": "c16a81c4",
   "metadata": {},
   "outputs": [
    {
     "data": {
      "text/plain": [
       "[3, 4, 5, 6, 7, 8, 9, 10, 11, 12, 13, 14]"
      ]
     },
     "execution_count": 65,
     "metadata": {},
     "output_type": "execute_result"
    }
   ],
   "source": [
    "liste1=[3,4,5,6,7,8,9,10]\n",
    "liste2=[11,12,13,14]\n",
    "liste1+liste2"
   ]
  },
  {
   "cell_type": "code",
   "execution_count": 66,
   "id": "71034c0b",
   "metadata": {},
   "outputs": [
    {
     "data": {
      "text/plain": [
       "[3, 4, 5, 6, 7, 8, 9, 10, 3, 4, 5, 6, 7, 8, 9, 10, 3, 4, 5, 6, 7, 8, 9, 10]"
      ]
     },
     "execution_count": 66,
     "metadata": {},
     "output_type": "execute_result"
    }
   ],
   "source": [
    "liste1*3"
   ]
  },
  {
   "cell_type": "code",
   "execution_count": 68,
   "id": "c22ef24f",
   "metadata": {},
   "outputs": [
    {
     "name": "stdout",
     "output_type": "stream",
     "text": [
      "9\n",
      "12\n",
      "15\n",
      "18\n",
      "21\n",
      "24\n",
      "27\n",
      "30\n"
     ]
    }
   ],
   "source": [
    "for i in liste1:\n",
    "    print(i*3)"
   ]
  },
  {
   "cell_type": "code",
   "execution_count": 74,
   "id": "90a60ec4",
   "metadata": {},
   "outputs": [
    {
     "data": {
      "text/plain": [
       "[3, 4, 5, 6, 7, 8, 9, 10]"
      ]
     },
     "execution_count": 74,
     "metadata": {},
     "output_type": "execute_result"
    }
   ],
   "source": [
    "liste1"
   ]
  },
  {
   "cell_type": "code",
   "execution_count": 70,
   "id": "b9245d38",
   "metadata": {},
   "outputs": [],
   "source": [
    "listex=[3,4,5,6]\n",
    "listex.append(7)"
   ]
  },
  {
   "cell_type": "code",
   "execution_count": 71,
   "id": "293b4691",
   "metadata": {},
   "outputs": [
    {
     "data": {
      "text/plain": [
       "[3, 4, 5, 6, 7]"
      ]
     },
     "execution_count": 71,
     "metadata": {},
     "output_type": "execute_result"
    }
   ],
   "source": [
    "listex"
   ]
  },
  {
   "cell_type": "code",
   "execution_count": 73,
   "id": "5a918c0e",
   "metadata": {},
   "outputs": [
    {
     "name": "stdout",
     "output_type": "stream",
     "text": [
      "None\n"
     ]
    }
   ],
   "source": [
    "listey=[\"Elma,Armut,Muz, Kiraz\"]\n"
   ]
  },
  {
   "cell_type": "code",
   "execution_count": 77,
   "id": "3b6f0e11",
   "metadata": {},
   "outputs": [
    {
     "ename": "TypeError",
     "evalue": "'tuple' object does not support item assignment",
     "output_type": "error",
     "traceback": [
      "\u001b[1;31m---------------------------------------------------------------------------\u001b[0m",
      "\u001b[1;31mTypeError\u001b[0m                                 Traceback (most recent call last)",
      "\u001b[1;32m<ipython-input-77-c91773c8c247>\u001b[0m in \u001b[0;36m<module>\u001b[1;34m\u001b[0m\n\u001b[0;32m      2\u001b[0m \u001b[0mdemet1\u001b[0m\u001b[1;33m=\u001b[0m\u001b[1;33m(\u001b[0m\u001b[1;36m1\u001b[0m\u001b[1;33m,\u001b[0m\u001b[1;36m2\u001b[0m\u001b[1;33m,\u001b[0m\u001b[1;36m3\u001b[0m\u001b[1;33m)\u001b[0m\u001b[1;33m\u001b[0m\u001b[1;33m\u001b[0m\u001b[0m\n\u001b[0;32m      3\u001b[0m \u001b[0mliste1\u001b[0m\u001b[1;33m[\u001b[0m\u001b[1;36m0\u001b[0m\u001b[1;33m]\u001b[0m\u001b[1;33m=\u001b[0m\u001b[1;34m\"Elma\"\u001b[0m\u001b[1;33m\u001b[0m\u001b[1;33m\u001b[0m\u001b[0m\n\u001b[1;32m----> 4\u001b[1;33m \u001b[0mdemet1\u001b[0m\u001b[1;33m[\u001b[0m\u001b[1;36m0\u001b[0m\u001b[1;33m]\u001b[0m\u001b[1;33m=\u001b[0m\u001b[1;34m\"Elma\"\u001b[0m\u001b[1;33m\u001b[0m\u001b[1;33m\u001b[0m\u001b[0m\n\u001b[0m",
      "\u001b[1;31mTypeError\u001b[0m: 'tuple' object does not support item assignment"
     ]
    }
   ],
   "source": [
    "liste1=[1,2,3]\n",
    "demet1=(1,2,3)\n",
    "liste1[0]=\"Elma\"\n",
    "demet1[0]=\"Elma\""
   ]
  },
  {
   "cell_type": "code",
   "execution_count": 76,
   "id": "6ed03ced",
   "metadata": {},
   "outputs": [
    {
     "data": {
      "text/plain": [
       "['Elma', 2, 3]"
      ]
     },
     "execution_count": 76,
     "metadata": {},
     "output_type": "execute_result"
    }
   ],
   "source": [
    "liste1"
   ]
  },
  {
   "cell_type": "code",
   "execution_count": 80,
   "id": "c4c6cbe8",
   "metadata": {},
   "outputs": [
    {
     "data": {
      "text/plain": [
       "1"
      ]
     },
     "execution_count": 80,
     "metadata": {},
     "output_type": "execute_result"
    }
   ],
   "source": [
    "# Sözlükler \n",
    "sözlük1={\"sıfır\": 0 , \"bir\" : 1 , \"iki\": 2}\n",
    "sözlük1[\"bir\"]"
   ]
  },
  {
   "cell_type": "code",
   "execution_count": 82,
   "id": "d5f65afb",
   "metadata": {},
   "outputs": [
    {
     "name": "stdout",
     "output_type": "stream",
     "text": [
      "Enter your pass : 12345\n"
     ]
    }
   ],
   "source": [
    "# Kullanıcıdan Girdi Alma \n",
    "a=input(\"Enter your pass : \")"
   ]
  },
  {
   "cell_type": "code",
   "execution_count": 83,
   "id": "8ccc11f1",
   "metadata": {},
   "outputs": [
    {
     "data": {
      "text/plain": [
       "'12345'"
      ]
     },
     "execution_count": 83,
     "metadata": {},
     "output_type": "execute_result"
    }
   ],
   "source": [
    "# Exercise\n",
    "# Ekrandan çapını girdiğiniz dairenin alanını ekrana basıran programı yazınız.\n"
   ]
  },
  {
   "cell_type": "code",
   "execution_count": 88,
   "id": "b8e31b0e",
   "metadata": {},
   "outputs": [
    {
     "name": "stdout",
     "output_type": "stream",
     "text": [
      " Dairenin çapını giriniz : 4\n",
      "Dairenin alanı : 12.56\n"
     ]
    }
   ],
   "source": [
    "cap=float(input(\" Dairenin çapını giriniz : \"))\n",
    "alan=3.14*((cap/2)**2)\n",
    "print(\"Dairenin alanı :\", alan)"
   ]
  },
  {
   "cell_type": "code",
   "execution_count": 85,
   "id": "38afe1bf",
   "metadata": {},
   "outputs": [
    {
     "name": "stdout",
     "output_type": "stream",
     "text": [
      " Dairenin çapını giriniz : 4\n"
     ]
    }
   ],
   "source": [
    "cap=input(\" Dairenin çapını giriniz : \")"
   ]
  },
  {
   "cell_type": "code",
   "execution_count": 86,
   "id": "eb29c074",
   "metadata": {},
   "outputs": [
    {
     "data": {
      "text/plain": [
       "'4'"
      ]
     },
     "execution_count": 86,
     "metadata": {},
     "output_type": "execute_result"
    }
   ],
   "source": [
    "cap"
   ]
  },
  {
   "cell_type": "code",
   "execution_count": 87,
   "id": "7fe647b4",
   "metadata": {},
   "outputs": [
    {
     "data": {
      "text/plain": [
       "str"
      ]
     },
     "execution_count": 87,
     "metadata": {},
     "output_type": "execute_result"
    }
   ],
   "source": [
    "type(cap)"
   ]
  },
  {
   "cell_type": "code",
   "execution_count": 91,
   "id": "a22a20c5",
   "metadata": {},
   "outputs": [
    {
     "name": "stdout",
     "output_type": "stream",
     "text": [
      "a:1\n",
      "b:4\n",
      "c:16\n",
      "Birinci Kök: (-2-3.4641016151377544j) ikinci kök : (-1.9999999999999998+3.4641016151377544j)\n"
     ]
    }
   ],
   "source": [
    "# ax2+bx+c=0\n",
    "a,b,c=int(input(\"a:\")),int(input(\"b:\")),int(input(\"c:\"))\n",
    "delta=b**2-4*a*c\n",
    "x1=(-b-delta**0.5)/(2*a)\n",
    "x2=(-b+delta**0.5)/(2*a)\n",
    "\n",
    "print(\"Birinci Kök: {} ikinci kök : {}\".format(x1,x2))"
   ]
  },
  {
   "cell_type": "code",
   "execution_count": 92,
   "id": "adde6491",
   "metadata": {},
   "outputs": [
    {
     "name": "stdout",
     "output_type": "stream",
     "text": [
      "deger gir3,4,5,3\n"
     ]
    }
   ],
   "source": [
    "x=input(\"deger gir\")"
   ]
  },
  {
   "cell_type": "code",
   "execution_count": 93,
   "id": "02d12495",
   "metadata": {},
   "outputs": [
    {
     "data": {
      "text/plain": [
       "'3,4,5,3'"
      ]
     },
     "execution_count": 93,
     "metadata": {},
     "output_type": "execute_result"
    }
   ],
   "source": [
    "x\n"
   ]
  },
  {
   "cell_type": "code",
   "execution_count": 94,
   "id": "117fe8f9",
   "metadata": {},
   "outputs": [
    {
     "name": "stdout",
     "output_type": "stream",
     "text": [
      "Lütfen boyunuzu giriniz : 180\n",
      "Lütfen kilonuzu giriniz : 90\n",
      "27.777777777777775\n"
     ]
    }
   ],
   "source": [
    "# Kişi ekrandan boyunu ve kilosunu  girsin ve siz BMI İndexini ekrana yazdırın \n",
    "boy=int(input(\"Lütfen boyunuzu giriniz : \"))\n",
    "agirlik=int(input(\"Lütfen kilonuzu giriniz : \"))\n",
    "BMI=agirlik/((boy/100)**2)\n",
    "print(BMI)"
   ]
  },
  {
   "cell_type": "code",
   "execution_count": 95,
   "id": "d7b41feb",
   "metadata": {},
   "outputs": [],
   "source": [
    "# Conditional Statements \n",
    "x=True\n",
    "y=False "
   ]
  },
  {
   "cell_type": "code",
   "execution_count": 96,
   "id": "e83a9eca",
   "metadata": {},
   "outputs": [
    {
     "data": {
      "text/plain": [
       "bool"
      ]
     },
     "execution_count": 96,
     "metadata": {},
     "output_type": "execute_result"
    }
   ],
   "source": [
    "type(x)"
   ]
  },
  {
   "cell_type": "code",
   "execution_count": 97,
   "id": "d73d1d17",
   "metadata": {},
   "outputs": [
    {
     "data": {
      "text/plain": [
       "True"
      ]
     },
     "execution_count": 97,
     "metadata": {},
     "output_type": "execute_result"
    }
   ],
   "source": [
    "1==1"
   ]
  },
  {
   "cell_type": "code",
   "execution_count": 98,
   "id": "ea5d9c89",
   "metadata": {},
   "outputs": [
    {
     "data": {
      "text/plain": [
       "False"
      ]
     },
     "execution_count": 98,
     "metadata": {},
     "output_type": "execute_result"
    }
   ],
   "source": [
    "1==2"
   ]
  },
  {
   "cell_type": "code",
   "execution_count": 99,
   "id": "de55363e",
   "metadata": {},
   "outputs": [
    {
     "data": {
      "text/plain": [
       "False"
      ]
     },
     "execution_count": 99,
     "metadata": {},
     "output_type": "execute_result"
    }
   ],
   "source": [
    "\"ali\"==\"ALİ\""
   ]
  },
  {
   "cell_type": "code",
   "execution_count": 100,
   "id": "fe64c18f",
   "metadata": {},
   "outputs": [
    {
     "data": {
      "text/plain": [
       "True"
      ]
     },
     "execution_count": 100,
     "metadata": {},
     "output_type": "execute_result"
    }
   ],
   "source": [
    "\"Araba\"<\"Xaraba\""
   ]
  },
  {
   "cell_type": "code",
   "execution_count": 102,
   "id": "f751bd5c",
   "metadata": {},
   "outputs": [],
   "source": [
    "a=2\n",
    "\n",
    "if a==2: \n",
    "    a+1"
   ]
  },
  {
   "cell_type": "code",
   "execution_count": 107,
   "id": "a34237ab",
   "metadata": {},
   "outputs": [
    {
     "name": "stdout",
     "output_type": "stream",
     "text": [
      "Lütfen şifrenizi giriniz123\n"
     ]
    }
   ],
   "source": [
    "#Şifre Kontrolü\n",
    "\n",
    "sifre=int(input(\"Lütfen şifrenizi giriniz\"))\n",
    "if sifre==1234:\n",
    "    print(\"Giriş Başarılı\")"
   ]
  },
  {
   "cell_type": "code",
   "execution_count": 114,
   "id": "b8adae76",
   "metadata": {},
   "outputs": [
    {
     "name": "stdout",
     "output_type": "stream",
     "text": [
      "Lütfen şifrenizi giriniz1234\n",
      "Giriş Başarılı\n"
     ]
    }
   ],
   "source": [
    "#Şifre Kontrolü\n",
    "\n",
    "sifre=int(input(\"Lütfen şifrenizi giriniz\"))\n",
    "if sifre==1234:\n",
    "    print(\"Giriş Başarılı\")\n",
    "else:\n",
    "print(\"Giriş Başarısız\")"
   ]
  },
  {
   "cell_type": "code",
   "execution_count": 120,
   "id": "f9b2a342",
   "metadata": {},
   "outputs": [
    {
     "name": "stdout",
     "output_type": "stream",
     "text": [
      "deger giriniz :1000\n",
      "girdigin sayı 900 den büyüktür\n"
     ]
    }
   ],
   "source": [
    "a=int(input(\"deger giriniz :\"))\n",
    "if a>900:\n",
    "    print(\"girdigin sayı 900 den büyüktür\")\n",
    "elif a>800:\n",
    "    print(\"girdigin sayı 800den büyüktür\")\n",
    "else: \n",
    "    print(\"Sayı küçüjktür\")\n"
   ]
  },
  {
   "cell_type": "code",
   "execution_count": 121,
   "id": "c7d2060d",
   "metadata": {},
   "outputs": [],
   "source": [
    "a=[\"elma\",\"kiraz\",\"armut\"]"
   ]
  },
  {
   "cell_type": "code",
   "execution_count": 122,
   "id": "ecf92864",
   "metadata": {},
   "outputs": [
    {
     "data": {
      "text/plain": [
       "['elma', 'kiraz', 'armut']"
      ]
     },
     "execution_count": 122,
     "metadata": {},
     "output_type": "execute_result"
    }
   ],
   "source": [
    "a\n"
   ]
  },
  {
   "cell_type": "code",
   "execution_count": 125,
   "id": "f0a24e82",
   "metadata": {},
   "outputs": [],
   "source": [
    "a.sort(reverse=True)"
   ]
  },
  {
   "cell_type": "code",
   "execution_count": 126,
   "id": "03ce8f72",
   "metadata": {},
   "outputs": [
    {
     "data": {
      "text/plain": [
       "['kiraz', 'elma', 'armut']"
      ]
     },
     "execution_count": 126,
     "metadata": {},
     "output_type": "execute_result"
    }
   ],
   "source": [
    "a"
   ]
  },
  {
   "cell_type": "code",
   "execution_count": 129,
   "id": "d9cd1530",
   "metadata": {},
   "outputs": [
    {
     "data": {
      "text/plain": [
       "1"
      ]
     },
     "execution_count": 129,
     "metadata": {},
     "output_type": "execute_result"
    }
   ],
   "source": [
    "demet=(1,2,3,1,5,6,7,8,9)\n",
    "demet[0]"
   ]
  },
  {
   "cell_type": "code",
   "execution_count": 132,
   "id": "0460ff73",
   "metadata": {},
   "outputs": [
    {
     "data": {
      "text/plain": [
       "8"
      ]
     },
     "execution_count": 132,
     "metadata": {},
     "output_type": "execute_result"
    }
   ],
   "source": [
    "demet.count(1)\n",
    "demet.index(9)"
   ]
  },
  {
   "cell_type": "code",
   "execution_count": null,
   "id": "d2dc0528",
   "metadata": {},
   "outputs": [],
   "source": []
  }
 ],
 "metadata": {
  "kernelspec": {
   "display_name": "Python 3",
   "language": "python",
   "name": "python3"
  },
  "language_info": {
   "codemirror_mode": {
    "name": "ipython",
    "version": 3
   },
   "file_extension": ".py",
   "mimetype": "text/x-python",
   "name": "python",
   "nbconvert_exporter": "python",
   "pygments_lexer": "ipython3",
   "version": "3.8.8"
  }
 },
 "nbformat": 4,
 "nbformat_minor": 5
}
